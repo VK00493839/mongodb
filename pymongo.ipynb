{
 "cells": [
  {
   "cell_type": "markdown",
   "metadata": {},
   "source": [
    "# Connect to Mongo, create db and basic insert and find()"
   ]
  },
  {
   "cell_type": "code",
   "execution_count": null,
   "metadata": {},
   "outputs": [],
   "source": [
    "import pymongo # pip install pymongo"
   ]
  },
  {
   "cell_type": "code",
   "execution_count": 30,
   "metadata": {},
   "outputs": [],
   "source": [
    "client = pymongo.MongoClient('mongodb://127.0.0.1:27017/')"
   ]
  },
  {
   "cell_type": "code",
   "execution_count": 31,
   "metadata": {},
   "outputs": [],
   "source": [
    "mydb = client['Student'] # creating DB if already exists it will connects to the DB"
   ]
  },
  {
   "cell_type": "code",
   "execution_count": 32,
   "metadata": {},
   "outputs": [],
   "source": [
    "info = mydb.studentinfo # creating collection \"studentinfo\""
   ]
  },
  {
   "cell_type": "code",
   "execution_count": 8,
   "metadata": {},
   "outputs": [],
   "source": [
    "records = [{\n",
    "    'firstName':'Vinay',\n",
    "    'lastName':'K',\n",
    "    'Age':15,\n",
    "    'School':\"St Mary's\"\n",
    "}, \n",
    "{\n",
    "    'firstName':'Naveen',\n",
    "    'lastName':'B',\n",
    "    'Age':14,\n",
    "    'School':\"John's\"\n",
    "}, \n",
    "{\n",
    "    'firstName':'Manoj',\n",
    "    'lastName':'D',\n",
    "    'Age':13,\n",
    "    'School':\"Balaji\"\n",
    "}]"
   ]
  },
  {
   "cell_type": "code",
   "execution_count": 11,
   "metadata": {},
   "outputs": [
    {
     "data": {
      "text/plain": [
       "<pymongo.results.InsertManyResult at 0x22f20b53248>"
      ]
     },
     "execution_count": 11,
     "metadata": {},
     "output_type": "execute_result"
    }
   ],
   "source": [
    "# info.insert_one() # to insert one json document into collection\n",
    "info.insert_many(records) # inserting json documents into our studentinfo collection"
   ]
  },
  {
   "cell_type": "code",
   "execution_count": 63,
   "metadata": {},
   "outputs": [
    {
     "name": "stdout",
     "output_type": "stream",
     "text": [
      "{'_id': ObjectId('5ed6534d1433bff5ae23e098'), 'firstName': 'Vinay', 'lastName': 'K', 'Age': 15, 'School': \"St Mary's\"}\n",
      "{'_id': ObjectId('5ed6534d1433bff5ae23e099'), 'firstName': 'Naveen', 'lastName': 'B', 'Age': 14, 'School': \"John's\"}\n",
      "{'_id': ObjectId('5ed6534d1433bff5ae23e09a'), 'firstName': 'Manoj', 'lastName': 'D', 'Age': 13, 'School': 'Balaji'}\n",
      "{'_id': ObjectId('5ed656f01433bff5ae23e09f'), 'firstName': 'Amruta'}\n"
     ]
    }
   ],
   "source": [
    "for i in info.find(): # find() returns pymongo object. It resmebles as select in SQL\n",
    "    print(i)"
   ]
  },
  {
   "cell_type": "markdown",
   "metadata": {},
   "source": [
    "# Querying Json documents"
   ]
  },
  {
   "cell_type": "code",
   "execution_count": 33,
   "metadata": {},
   "outputs": [
    {
     "data": {
      "text/plain": [
       "<pymongo.results.InsertOneResult at 0x22f20f85988>"
      ]
     },
     "execution_count": 33,
     "metadata": {},
     "output_type": "execute_result"
    }
   ],
   "source": [
    "info.insert_one({'firstName':'Amruta'})"
   ]
  },
  {
   "cell_type": "code",
   "execution_count": 35,
   "metadata": {},
   "outputs": [
    {
     "data": {
      "text/plain": [
       "{'_id': ObjectId('5ed6534d1433bff5ae23e098'),\n",
       " 'firstName': 'Vinay',\n",
       " 'lastName': 'K',\n",
       " 'Age': 15,\n",
       " 'School': \"St Mary's\"}"
      ]
     },
     "execution_count": 35,
     "metadata": {},
     "output_type": "execute_result"
    }
   ],
   "source": [
    "info.find_one() # gets the first json doc from the collection"
   ]
  },
  {
   "cell_type": "code",
   "execution_count": 40,
   "metadata": {},
   "outputs": [
    {
     "name": "stdout",
     "output_type": "stream",
     "text": [
      "{'_id': ObjectId('5ed6534d1433bff5ae23e098'), 'firstName': 'Vinay', 'lastName': 'K', 'Age': 15, 'School': \"St Mary's\"}\n"
     ]
    }
   ],
   "source": [
    "print(info.find_one({'School':\"St Mary's\"})) #select * form studentinfo where School=\"St Mary's\""
   ]
  },
  {
   "cell_type": "markdown",
   "metadata": {},
   "source": [
    "###  just like ['in', '<', '>', 'and', 'or'] operations in SQL mongo has [$in, dollargt, dollarlt, dollaror]"
   ]
  },
  {
   "cell_type": "code",
   "execution_count": 62,
   "metadata": {},
   "outputs": [
    {
     "name": "stdout",
     "output_type": "stream",
     "text": [
      "{'_id': ObjectId('5ed6534d1433bff5ae23e098'), 'firstName': 'Vinay', 'lastName': 'K', 'Age': 15, 'School': \"St Mary's\"}\n",
      "{'_id': ObjectId('5ed6534d1433bff5ae23e099'), 'firstName': 'Naveen', 'lastName': 'B', 'Age': 14, 'School': \"John's\"}\n",
      "{'_id': ObjectId('5ed6534d1433bff5ae23e09a'), 'firstName': 'Manoj', 'lastName': 'D', 'Age': 13, 'School': 'Balaji'}\n"
     ]
    }
   ],
   "source": [
    "# $in operation\n",
    "\n",
    "for i in info.find({'School':{'$in':[\"St Mary's\", 'Balaji', \"John's\"]}}): # select * from studentinfo where School in ('','','')\n",
    "    print(i)"
   ]
  },
  {
   "cell_type": "code",
   "execution_count": 45,
   "metadata": {},
   "outputs": [
    {
     "name": "stdout",
     "output_type": "stream",
     "text": [
      "{'_id': ObjectId('5ed6534d1433bff5ae23e09a'), 'firstName': 'Manoj', 'lastName': 'D', 'Age': 13, 'School': 'Balaji'}\n"
     ]
    }
   ],
   "source": [
    "# and operation using ','\n",
    "\n",
    "for i in info.find({'School':'Balaji', 'Age':{'$lt':14}}): # select * from studentinfo where School='Balaji' and age<15\n",
    "    print(i) # if criteria doesn't matches we don't get any output"
   ]
  },
  {
   "cell_type": "code",
   "execution_count": 50,
   "metadata": {},
   "outputs": [
    {
     "name": "stdout",
     "output_type": "stream",
     "text": [
      "{'_id': ObjectId('5ed6534d1433bff5ae23e09a'), 'firstName': 'Manoj', 'lastName': 'D', 'Age': 13, 'School': 'Balaji'}\n"
     ]
    }
   ],
   "source": [
    "# $and operator should take array []\n",
    "\n",
    "for i in info.find({'$and':[{'School':'Balaji'}, {'Age':{'$lt':14}}]}): # select * from studentinfo where School='Balaji' and age<15\n",
    "    print(i) # if criteria doesn't matches we don't get any output"
   ]
  },
  {
   "cell_type": "code",
   "execution_count": 46,
   "metadata": {},
   "outputs": [
    {
     "name": "stdout",
     "output_type": "stream",
     "text": [
      "{'_id': ObjectId('5ed6534d1433bff5ae23e098'), 'firstName': 'Vinay', 'lastName': 'K', 'Age': 15, 'School': \"St Mary's\"}\n"
     ]
    }
   ],
   "source": [
    "# $and operator should take array []\n",
    "\n",
    "for i in info.find({'$or':[{'firstName':'Vinay'}, {'firstName':'Sreekar'}]}): \n",
    "    print(i) # if criteria doesn't matches we don't get any output"
   ]
  },
  {
   "cell_type": "markdown",
   "metadata": {},
   "source": [
    "# Students details with Subjects (nested values)"
   ]
  },
  {
   "cell_type": "code",
   "execution_count": 54,
   "metadata": {},
   "outputs": [],
   "source": [
    "sub_info = mydb.subjects # creating new collection"
   ]
  },
  {
   "cell_type": "code",
   "execution_count": 57,
   "metadata": {},
   "outputs": [
    {
     "data": {
      "text/plain": [
       "<pymongo.results.InsertManyResult at 0x22f20f51d08>"
      ]
     },
     "execution_count": 57,
     "metadata": {},
     "output_type": "execute_result"
    }
   ],
   "source": [
    "sub_info.insert_many([\n",
    "    {'Name':'Vinay', 'Age':15, 'Subjects':['Telugu','Hindi', 'English'], 'School':\"St Mary's\"},\n",
    "    {'Name':'Manoj', 'Age':15, 'Subjects':['Civics','Physics', 'Chemistry'], 'School':\"St Mary's\"},\n",
    "    {'Name':'Naveen', 'Age':14, 'Subjects':['Zoology','Atanomy', 'Biology'], 'School':\"John's\"},\n",
    "    {'Name':'Amruta', 'Age':13, 'Subjects':['Maths','Science', 'Social'], 'School':\"Balaji\"},\n",
    "])"
   ]
  },
  {
   "cell_type": "code",
   "execution_count": 105,
   "metadata": {},
   "outputs": [
    {
     "name": "stdout",
     "output_type": "stream",
     "text": [
      "{'_id': ObjectId('5ed65cd41433bff5ae23e0a0'), 'Name': 'Vinay', 'Age': 15, 'Subjects': ['ECE', 'Hindi', 'English'], 'School': \"St Mary's\", 'marks': {'ECE': 83, 'Hindi': 92, 'English': 84}}\n",
      "{'_id': ObjectId('5ed65cd41433bff5ae23e0a1'), 'Name': 'Manoj', 'Age': 15, 'Subjects': ['Civics', 'Physics', 'Chemistry'], 'School': \"St Mary's\"}\n",
      "{'_id': ObjectId('5ed65cd41433bff5ae23e0a2'), 'Name': 'Naveen', 'Age': 14, 'Subjects': ['Zoology', 'Atanomy', 'Biology'], 'School': \"John's\"}\n",
      "{'_id': ObjectId('5ed65cd41433bff5ae23e0a3'), 'Name': 'Amruta', 'Age': 13, 'Subjects': ['ECE', 'Science', 'Social'], 'School': 'Balaji', 'marks': {'ECE': 83, 'Science': 72, 'Social': 99}}\n",
      "{'_id': ObjectId('5ed6626a1433bff5ae23e0a4'), 'marks': {'ECE': 83, 'Hindi': 92, 'ENglish': 84}}\n"
     ]
    }
   ],
   "source": [
    "for i in sub_info.find():\n",
    "    print(i)"
   ]
  },
  {
   "cell_type": "markdown",
   "metadata": {},
   "source": [
    "# updating Json docs in the collections"
   ]
  },
  {
   "cell_type": "code",
   "execution_count": 89,
   "metadata": {},
   "outputs": [
    {
     "data": {
      "text/plain": [
       "<pymongo.results.UpdateResult at 0x22f20d2a708>"
      ]
     },
     "execution_count": 89,
     "metadata": {},
     "output_type": "execute_result"
    }
   ],
   "source": [
    "# need to mention the reference field\n",
    "\n",
    "sub_info.update_one({'Name':'Vinay'}, {'$set':{'Subjects.0':'ECE'}}) # updating Vinay's Subject[0] to 'ECE'\n",
    "sub_info.update_one({'Name':'Amruta'}, {'$set':{'Subjects.0':'ECE'}}) # updating Amruta's Subject[0] to 'ECE'"
   ]
  },
  {
   "cell_type": "code",
   "execution_count": 100,
   "metadata": {},
   "outputs": [
    {
     "data": {
      "text/plain": [
       "<pymongo.results.UpdateResult at 0x22f20c7c788>"
      ]
     },
     "execution_count": 100,
     "metadata": {},
     "output_type": "execute_result"
    }
   ],
   "source": [
    "# need to mention the reference field\n",
    "\n",
    "sub_info.update_one({'Name':'Vinay'}, {'$set':{'marks':{'ECE':83, 'Hindi': 92, 'English':84}}}) # adding extra field\n",
    "sub_info.update_one({'Name':'Amruta'}, {'$set':{'marks':{'ECE':83, 'Science': 72, 'Social':99}}}) # adding extra field"
   ]
  },
  {
   "cell_type": "code",
   "execution_count": 95,
   "metadata": {},
   "outputs": [
    {
     "name": "stdout",
     "output_type": "stream",
     "text": [
      "{'_id': ObjectId('5ed65cd41433bff5ae23e0a0'), 'Name': 'Vinay', 'Age': 15, 'Subjects': ['ECE', 'Hindi', 'English'], 'School': \"St Mary's\", 'Subjects[0]': 'ECE'}\n",
      "{'_id': ObjectId('5ed65cd41433bff5ae23e0a3'), 'Name': 'Amruta', 'Age': 13, 'Subjects': ['ECE', 'Science', 'Social'], 'School': 'Balaji'}\n"
     ]
    }
   ],
   "source": [
    "# it retrieves all json docs which are having ECE in their Subjects array\n",
    "\n",
    "for i in sub_info.find({'Subjects':'ECE'}): \n",
    "    print(i)"
   ]
  },
  {
   "cell_type": "markdown",
   "metadata": {},
   "source": [
    "# to find unique values using distinct"
   ]
  },
  {
   "cell_type": "code",
   "execution_count": 91,
   "metadata": {},
   "outputs": [
    {
     "data": {
      "text/plain": [
       "['ECE', 'Civics', 'Zoology']"
      ]
     },
     "execution_count": 91,
     "metadata": {},
     "output_type": "execute_result"
    }
   ],
   "source": [
    "# to find unique values frmo json docs\n",
    "\n",
    "sub_info.distinct('Subjects.0') # retrieves unique first subject names from all json docs"
   ]
  },
  {
   "cell_type": "markdown",
   "metadata": {},
   "source": [
    "# Inserting new field in json doc"
   ]
  },
  {
   "cell_type": "code",
   "execution_count": 96,
   "metadata": {},
   "outputs": [
    {
     "data": {
      "text/plain": [
       "<pymongo.results.InsertOneResult at 0x22f20cac448>"
      ]
     },
     "execution_count": 96,
     "metadata": {},
     "output_type": "execute_result"
    }
   ],
   "source": [
    "# if you dont mention any reference files then the newly added field inserted into first json doc\n",
    "\n",
    "sub_info.insert_one({'marks':{'ECE':83, 'Hindi': 92, 'ENglish':84}})"
   ]
  },
  {
   "cell_type": "markdown",
   "metadata": {},
   "source": [
    "# Deleting a field using $unset operator"
   ]
  },
  {
   "cell_type": "code",
   "execution_count": 103,
   "metadata": {},
   "outputs": [
    {
     "data": {
      "text/plain": [
       "<pymongo.results.UpdateResult at 0x22f20c63248>"
      ]
     },
     "execution_count": 103,
     "metadata": {},
     "output_type": "execute_result"
    }
   ],
   "source": [
    "# need to mention the reference field\n",
    "\n",
    "sub_info.update_one({'Name':'Vinay'},{'$unset': {'Subjects[0]':1}})"
   ]
  },
  {
   "cell_type": "markdown",
   "metadata": {},
   "source": [
    "# deleting a json doc"
   ]
  },
  {
   "cell_type": "code",
   "execution_count": 123,
   "metadata": {},
   "outputs": [
    {
     "name": "stdout",
     "output_type": "stream",
     "text": [
      "{'_id': ObjectId('5ed65cd41433bff5ae23e0a0'), 'Name': 'Vinay', 'Age': 15, 'Subjects': ['ECE', 'Hindi', 'English'], 'School': \"St Mary's\", 'marks': {'ECE': 83, 'Hindi': 92, 'English': 84}}\n",
      "{'_id': ObjectId('5ed65cd41433bff5ae23e0a1'), 'Name': 'Manoj', 'Age': 15, 'Subjects': ['Civics', 'Physics', 'Chemistry'], 'School': \"St Mary's\"}\n",
      "{'_id': ObjectId('5ed65cd41433bff5ae23e0a2'), 'Name': 'Naveen', 'Age': 14, 'Subjects': ['Zoology', 'Atanomy', 'Biology'], 'School': \"John's\"}\n",
      "{'_id': ObjectId('5ed65cd41433bff5ae23e0a3'), 'Name': 'Amruta', 'Age': 13, 'Subjects': ['ECE', 'Science', 'Social'], 'School': 'Balaji', 'marks': {'ECE': 83, 'Science': 72, 'Social': 99}}\n"
     ]
    }
   ],
   "source": [
    "# fetch the record which you want to delete adn perform delete operation\n",
    "\n",
    "record = sub_info.find().sort('Name')[0]\n",
    "sub_info.delete_one(record) # document deleted\n",
    "\n",
    "# check the json docs\n",
    "for i in sub_info.find():\n",
    "    print(i)"
   ]
  },
  {
   "cell_type": "markdown",
   "metadata": {},
   "source": [
    "# List of Databases"
   ]
  },
  {
   "cell_type": "code",
   "execution_count": 109,
   "metadata": {},
   "outputs": [
    {
     "name": "stdout",
     "output_type": "stream",
     "text": [
      "['Employee', 'Student', 'admin', 'config', 'local']\n"
     ]
    }
   ],
   "source": [
    "print(client.list_database_names())"
   ]
  },
  {
   "cell_type": "code",
   "execution_count": 110,
   "metadata": {},
   "outputs": [
    {
     "name": "stdout",
     "output_type": "stream",
     "text": [
      "The database exists.\n"
     ]
    }
   ],
   "source": [
    "dblist = client.list_database_names()\n",
    "if \"Student\" in dblist:\n",
    "  print(\"The database exists.\")"
   ]
  },
  {
   "cell_type": "markdown",
   "metadata": {},
   "source": [
    "# List of Collections"
   ]
  },
  {
   "cell_type": "code",
   "execution_count": 112,
   "metadata": {},
   "outputs": [
    {
     "name": "stdout",
     "output_type": "stream",
     "text": [
      "['subjects', 'studentinfo']\n"
     ]
    }
   ],
   "source": [
    "print(mydb.list_collection_names()) # collections in Student Database"
   ]
  },
  {
   "cell_type": "markdown",
   "metadata": {},
   "source": [
    "# Sort"
   ]
  },
  {
   "cell_type": "code",
   "execution_count": 114,
   "metadata": {},
   "outputs": [
    {
     "name": "stdout",
     "output_type": "stream",
     "text": [
      "{'_id': ObjectId('5ed6626a1433bff5ae23e0a4'), 'marks': {'ECE': 83, 'Hindi': 92, 'ENglish': 84}}\n",
      "{'_id': ObjectId('5ed65cd41433bff5ae23e0a3'), 'Name': 'Amruta', 'Age': 13, 'Subjects': ['ECE', 'Science', 'Social'], 'School': 'Balaji', 'marks': {'ECE': 83, 'Science': 72, 'Social': 99}}\n",
      "{'_id': ObjectId('5ed65cd41433bff5ae23e0a1'), 'Name': 'Manoj', 'Age': 15, 'Subjects': ['Civics', 'Physics', 'Chemistry'], 'School': \"St Mary's\"}\n",
      "{'_id': ObjectId('5ed65cd41433bff5ae23e0a2'), 'Name': 'Naveen', 'Age': 14, 'Subjects': ['Zoology', 'Atanomy', 'Biology'], 'School': \"John's\"}\n",
      "{'_id': ObjectId('5ed65cd41433bff5ae23e0a0'), 'Name': 'Vinay', 'Age': 15, 'Subjects': ['ECE', 'Hindi', 'English'], 'School': \"St Mary's\", 'marks': {'ECE': 83, 'Hindi': 92, 'English': 84}}\n"
     ]
    }
   ],
   "source": [
    "# Sort method takes the arguments of field names \n",
    "\n",
    "for i in sub_info.find().sort('Name'):\n",
    "    print(i)"
   ]
  },
  {
   "cell_type": "code",
   "execution_count": 115,
   "metadata": {},
   "outputs": [
    {
     "name": "stdout",
     "output_type": "stream",
     "text": [
      "{'_id': ObjectId('5ed65cd41433bff5ae23e0a0'), 'Name': 'Vinay', 'Age': 15, 'Subjects': ['ECE', 'Hindi', 'English'], 'School': \"St Mary's\", 'marks': {'ECE': 83, 'Hindi': 92, 'English': 84}}\n",
      "{'_id': ObjectId('5ed65cd41433bff5ae23e0a2'), 'Name': 'Naveen', 'Age': 14, 'Subjects': ['Zoology', 'Atanomy', 'Biology'], 'School': \"John's\"}\n",
      "{'_id': ObjectId('5ed65cd41433bff5ae23e0a1'), 'Name': 'Manoj', 'Age': 15, 'Subjects': ['Civics', 'Physics', 'Chemistry'], 'School': \"St Mary's\"}\n",
      "{'_id': ObjectId('5ed65cd41433bff5ae23e0a3'), 'Name': 'Amruta', 'Age': 13, 'Subjects': ['ECE', 'Science', 'Social'], 'School': 'Balaji', 'marks': {'ECE': 83, 'Science': 72, 'Social': 99}}\n",
      "{'_id': ObjectId('5ed6626a1433bff5ae23e0a4'), 'marks': {'ECE': 83, 'Hindi': 92, 'ENglish': 84}}\n"
     ]
    }
   ],
   "source": [
    "# Sort the json docs in descending order\n",
    "\n",
    "for i in sub_info.find().sort('Name', -1):\n",
    "    print(i)"
   ]
  },
  {
   "cell_type": "markdown",
   "metadata": {},
   "source": [
    "# Drop Collection"
   ]
  },
  {
   "cell_type": "code",
   "execution_count": 125,
   "metadata": {},
   "outputs": [],
   "source": [
    "# sub_info.drop()"
   ]
  },
  {
   "cell_type": "markdown",
   "metadata": {},
   "source": [
    "# limit the queryset json documents using limit()"
   ]
  },
  {
   "cell_type": "code",
   "execution_count": 126,
   "metadata": {},
   "outputs": [
    {
     "name": "stdout",
     "output_type": "stream",
     "text": [
      "{'_id': ObjectId('5ed65cd41433bff5ae23e0a0'), 'Name': 'Vinay', 'Age': 15, 'Subjects': ['ECE', 'Hindi', 'English'], 'School': \"St Mary's\", 'marks': {'ECE': 83, 'Hindi': 92, 'English': 84}}\n",
      "{'_id': ObjectId('5ed65cd41433bff5ae23e0a1'), 'Name': 'Manoj', 'Age': 15, 'Subjects': ['Civics', 'Physics', 'Chemistry'], 'School': \"St Mary's\"}\n"
     ]
    }
   ],
   "source": [
    "# sub_info has 4 docs but limiting to 2 docs in output\n",
    "\n",
    "for i in sub_info.find().limit(2):\n",
    "    print(i)"
   ]
  },
  {
   "cell_type": "code",
   "execution_count": null,
   "metadata": {},
   "outputs": [],
   "source": []
  }
 ],
 "metadata": {
  "kernelspec": {
   "display_name": "Python 3",
   "language": "python",
   "name": "python3"
  },
  "language_info": {
   "codemirror_mode": {
    "name": "ipython",
    "version": 3
   },
   "file_extension": ".py",
   "mimetype": "text/x-python",
   "name": "python",
   "nbconvert_exporter": "python",
   "pygments_lexer": "ipython3",
   "version": "3.7.3"
  }
 },
 "nbformat": 4,
 "nbformat_minor": 4
}
